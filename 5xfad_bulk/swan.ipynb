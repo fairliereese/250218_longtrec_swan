{
 "cells": [
  {
   "cell_type": "code",
   "execution_count": 59,
   "id": "c7b5ca8f-3c1d-4512-bd2c-36bb836069c2",
   "metadata": {},
   "outputs": [],
   "source": [
    "import swan_vis as swan \n",
    "import scanpy as sc\n",
    "import pandas as pd\n",
    "import anndata\n",
    "import matplotlib.pyplot as plt\n",
    "import numpy as np\n",
    "import seaborn as sns"
   ]
  },
  {
   "cell_type": "code",
   "execution_count": 60,
   "id": "2c14ecd7-6242-4a4b-9c0d-f988e4a8b34f",
   "metadata": {},
   "outputs": [
    {
     "name": "stdout",
     "output_type": "stream",
     "text": [
      "Read in graph from ../data/5xfad.p\n"
     ]
    }
   ],
   "source": [
    "sg = swan.read('../data/5xfad.p')"
   ]
  },
  {
   "cell_type": "markdown",
   "id": "2fa06610-b360-4fbf-bbeb-0e5257780b41",
   "metadata": {},
   "source": [
    "## Make some Swan reports for isoform-switching genes"
   ]
  },
  {
   "cell_type": "code",
   "execution_count": 47,
   "id": "87b65385-e4d3-4dae-b9db-4fad6da50b7c",
   "metadata": {},
   "outputs": [],
   "source": [
    "test = sg.get_die_genes(kind='iso', obs_col='condition',\n",
    "                        obs_conditions=['WT', '5xFAD'])"
   ]
  },
  {
   "cell_type": "code",
   "execution_count": 48,
   "id": "c8997c2e-bfdb-49a3-bc79-a26736c7c16a",
   "metadata": {},
   "outputs": [
    {
     "data": {
      "text/html": [
       "<div>\n",
       "<style scoped>\n",
       "    .dataframe tbody tr th:only-of-type {\n",
       "        vertical-align: middle;\n",
       "    }\n",
       "\n",
       "    .dataframe tbody tr th {\n",
       "        vertical-align: top;\n",
       "    }\n",
       "\n",
       "    .dataframe thead th {\n",
       "        text-align: right;\n",
       "    }\n",
       "</style>\n",
       "<table border=\"1\" class=\"dataframe\">\n",
       "  <thead>\n",
       "    <tr style=\"text-align: right;\">\n",
       "      <th></th>\n",
       "      <th>gid</th>\n",
       "      <th>p_val</th>\n",
       "      <th>dpi</th>\n",
       "      <th>pos_iso_1</th>\n",
       "      <th>pos_iso_2</th>\n",
       "      <th>pos_iso_1_dpi</th>\n",
       "      <th>pos_iso_2_dpi</th>\n",
       "      <th>neg_iso_1</th>\n",
       "      <th>neg_iso_2</th>\n",
       "      <th>neg_iso_1_dpi</th>\n",
       "      <th>neg_iso_2_dpi</th>\n",
       "      <th>adj_p_val</th>\n",
       "      <th>gname</th>\n",
       "    </tr>\n",
       "  </thead>\n",
       "  <tbody>\n",
       "    <tr>\n",
       "      <th>3433</th>\n",
       "      <td>ENSMUSG00000059326.7</td>\n",
       "      <td>1.207201e-24</td>\n",
       "      <td>58.830444</td>\n",
       "      <td>ENCODEMT000852457</td>\n",
       "      <td>ENSMUST00000235172.1</td>\n",
       "      <td>48.060535</td>\n",
       "      <td>7.489715</td>\n",
       "      <td>ENSMUST00000076046.6</td>\n",
       "      <td>NaN</td>\n",
       "      <td>-58.830444</td>\n",
       "      <td>NaN</td>\n",
       "      <td>1.547868e-22</td>\n",
       "      <td>Csf2ra</td>\n",
       "    </tr>\n",
       "  </tbody>\n",
       "</table>\n",
       "</div>"
      ],
      "text/plain": [
       "                       gid         p_val        dpi          pos_iso_1  \\\n",
       "3433  ENSMUSG00000059326.7  1.207201e-24  58.830444  ENCODEMT000852457   \n",
       "\n",
       "                 pos_iso_2  pos_iso_1_dpi  pos_iso_2_dpi  \\\n",
       "3433  ENSMUST00000235172.1      48.060535       7.489715   \n",
       "\n",
       "                 neg_iso_1 neg_iso_2  neg_iso_1_dpi  neg_iso_2_dpi  \\\n",
       "3433  ENSMUST00000076046.6       NaN     -58.830444            NaN   \n",
       "\n",
       "         adj_p_val   gname  \n",
       "3433  1.547868e-22  Csf2ra  "
      ]
     },
     "execution_count": 48,
     "metadata": {},
     "output_type": "execute_result"
    }
   ],
   "source": [
    "test.loc[test.gname=='Csf2ra']"
   ]
  },
  {
   "cell_type": "code",
   "execution_count": 49,
   "id": "9e099eb6-3e07-4b82-a5d8-ee96208fa15d",
   "metadata": {},
   "outputs": [
    {
     "name": "stdout",
     "output_type": "stream",
     "text": [
      "\n",
      "Plotting transcripts for ENSMUSG00000059326.7\n",
      "Saving transcript path graph for ENSMUST00000076046.6 as figures/Csf2ra_novel_ENSMUST00000076046.6_path.png\n",
      "Saving transcript path graph for ENCODEMT000852457 as figures/Csf2ra_novel_ENCODEMT000852457_path.png\n",
      "Saving transcript path graph for ENSMUST00000235172.1 as figures/Csf2ra_novel_ENSMUST00000235172.1_path.png\n",
      "Saving transcript path graph for ENSMUST00000237386.1 as figures/Csf2ra_novel_ENSMUST00000237386.1_path.png\n",
      "Saving transcript path graph for ENSMUST00000237877.1 as figures/Csf2ra_novel_ENSMUST00000237877.1_path.png\n",
      "Saving transcript path graph for ENSMUST00000236872.1 as figures/Csf2ra_novel_ENSMUST00000236872.1_path.png\n",
      "Generating report for ENSMUSG00000059326.7\n"
     ]
    }
   ],
   "source": [
    "sg.gen_report('Csf2ra', \n",
    "              'figures/Csf2ra', \n",
    "              metadata_cols=['condition'],\n",
    "              novelty=True, \n",
    "              cmap='magma', \n",
    "              layer='pi',\n",
    "              display_numbers=True,\n",
    "              groupby='condition',\n",
    "              indicate_novel=True,\n",
    "              transcript_col='tname')"
   ]
  },
  {
   "cell_type": "code",
   "execution_count": 50,
   "id": "f53e657e-eb03-4321-81a0-ba8e3f26949b",
   "metadata": {},
   "outputs": [
    {
     "name": "stdout",
     "output_type": "stream",
     "text": [
      "\n",
      "Plotting transcripts for ENSMUSG00000059326.7\n",
      "Saving transcript path graph for ENSMUST00000076046.6 as figures/Csf2ra_browser_ENSMUST00000076046.6_path.png\n",
      "Saving transcript path graph for ENCODEMT000852457 as figures/Csf2ra_browser_ENCODEMT000852457_path.png\n",
      "Saving transcript path graph for ENSMUST00000235172.1 as figures/Csf2ra_browser_ENSMUST00000235172.1_path.png\n",
      "Saving transcript path graph for ENSMUST00000237386.1 as figures/Csf2ra_browser_ENSMUST00000237386.1_path.png\n",
      "Saving transcript path graph for ENSMUST00000237877.1 as figures/Csf2ra_browser_ENSMUST00000237877.1_path.png\n",
      "Saving transcript path graph for ENSMUST00000236872.1 as figures/Csf2ra_browser_ENSMUST00000236872.1_path.png\n",
      "Generating report for ENSMUSG00000059326.7\n"
     ]
    }
   ],
   "source": [
    "sg.gen_report('Csf2ra', \n",
    "              'figures/Csf2ra', \n",
    "              metadata_cols=['condition'],\n",
    "              novelty=True, \n",
    "              cmap='viridis', \n",
    "              layer='tpm',\n",
    "              groupby='condition',\n",
    "              browser=True,\n",
    "              transcript_col='tname')"
   ]
  },
  {
   "cell_type": "markdown",
   "id": "2885c04a-527e-4547-aac1-51d80505ce51",
   "metadata": {},
   "source": [
    "## Make some Swan reports for TSS-switching genes"
   ]
  },
  {
   "cell_type": "code",
   "execution_count": 51,
   "id": "81cf79b4-8d68-4ea9-a26c-011eec04056b",
   "metadata": {},
   "outputs": [],
   "source": [
    "test = sg.get_die_genes(kind='tss', obs_col='condition',\n",
    "                        obs_conditions=['WT', '5xFAD'])"
   ]
  },
  {
   "cell_type": "code",
   "execution_count": 52,
   "id": "184c4ff8-ec14-43a7-bbce-60168df7246c",
   "metadata": {},
   "outputs": [
    {
     "data": {
      "text/html": [
       "<div>\n",
       "<style scoped>\n",
       "    .dataframe tbody tr th:only-of-type {\n",
       "        vertical-align: middle;\n",
       "    }\n",
       "\n",
       "    .dataframe tbody tr th {\n",
       "        vertical-align: top;\n",
       "    }\n",
       "\n",
       "    .dataframe thead th {\n",
       "        text-align: right;\n",
       "    }\n",
       "</style>\n",
       "<table border=\"1\" class=\"dataframe\">\n",
       "  <thead>\n",
       "    <tr style=\"text-align: right;\">\n",
       "      <th></th>\n",
       "      <th>gid</th>\n",
       "      <th>p_val</th>\n",
       "      <th>dpi</th>\n",
       "      <th>pos_iso_1</th>\n",
       "      <th>pos_iso_2</th>\n",
       "      <th>pos_iso_1_dpi</th>\n",
       "      <th>pos_iso_2_dpi</th>\n",
       "      <th>neg_iso_1</th>\n",
       "      <th>neg_iso_2</th>\n",
       "      <th>neg_iso_1_dpi</th>\n",
       "      <th>neg_iso_2_dpi</th>\n",
       "      <th>adj_p_val</th>\n",
       "      <th>gname</th>\n",
       "    </tr>\n",
       "  </thead>\n",
       "  <tbody>\n",
       "    <tr>\n",
       "      <th>983</th>\n",
       "      <td>ENSMUSG00000018819.10</td>\n",
       "      <td>3.916104e-15</td>\n",
       "      <td>51.783002</td>\n",
       "      <td>ENSMUSG00000018819.10_4</td>\n",
       "      <td>ENSMUSG00000018819.10_2</td>\n",
       "      <td>49.822785</td>\n",
       "      <td>1.960217</td>\n",
       "      <td>ENSMUSG00000018819.10_1</td>\n",
       "      <td>NaN</td>\n",
       "      <td>-51.783002</td>\n",
       "      <td>NaN</td>\n",
       "      <td>4.262116e-13</td>\n",
       "      <td>Lsp1</td>\n",
       "    </tr>\n",
       "  </tbody>\n",
       "</table>\n",
       "</div>"
      ],
      "text/plain": [
       "                       gid         p_val        dpi                pos_iso_1  \\\n",
       "983  ENSMUSG00000018819.10  3.916104e-15  51.783002  ENSMUSG00000018819.10_4   \n",
       "\n",
       "                   pos_iso_2  pos_iso_1_dpi  pos_iso_2_dpi  \\\n",
       "983  ENSMUSG00000018819.10_2      49.822785       1.960217   \n",
       "\n",
       "                   neg_iso_1 neg_iso_2  neg_iso_1_dpi  neg_iso_2_dpi  \\\n",
       "983  ENSMUSG00000018819.10_1       NaN     -51.783002            NaN   \n",
       "\n",
       "        adj_p_val gname  \n",
       "983  4.262116e-13  Lsp1  "
      ]
     },
     "execution_count": 52,
     "metadata": {},
     "output_type": "execute_result"
    }
   ],
   "source": [
    "test.loc[test.gname=='Lsp1']"
   ]
  },
  {
   "cell_type": "code",
   "execution_count": 53,
   "id": "06b86bcf-6a11-4b1d-a120-d151a4b24913",
   "metadata": {},
   "outputs": [
    {
     "name": "stdout",
     "output_type": "stream",
     "text": [
      "\n",
      "Plotting transcripts for ENSMUSG00000018819.10\n",
      "Saving transcript path graph for ENSMUST00000018963.10 as figures/Lsp1_novel_ENSMUST00000018963.10_path.png\n",
      "Saving transcript path graph for ENCODEMT001103605 as figures/Lsp1_novel_ENCODEMT001103605_path.png\n",
      "Saving transcript path graph for ENSMUST00000105967.7 as figures/Lsp1_novel_ENSMUST00000105967.7_path.png\n",
      "Saving transcript path graph for ENSMUST00000149521.7 as figures/Lsp1_novel_ENSMUST00000149521.7_path.png\n",
      "Saving transcript path graph for ENSMUST00000105968.7 as figures/Lsp1_novel_ENSMUST00000105968.7_path.png\n",
      "Saving transcript path graph for ENSMUST00000038946.8 as figures/Lsp1_novel_ENSMUST00000038946.8_path.png\n",
      "Generating report for ENSMUSG00000018819.10\n"
     ]
    }
   ],
   "source": [
    "sg.gen_report('Lsp1', 'figures/Lsp1', \n",
    "              indicate_novel=True,  \n",
    "              cmap='magma', \n",
    "              layer='pi',\n",
    "              transcript_col='tname',\n",
    "              groupby='condition',\n",
    "              display_numbers=True, \n",
    "              novelty=True,\n",
    "              metadata_cols=['condition'])"
   ]
  },
  {
   "cell_type": "markdown",
   "id": "f8c56c28-150b-4f76-9970-84b6cd629ec2",
   "metadata": {},
   "source": [
    "## Make some Swan reports for TES-switching genes"
   ]
  },
  {
   "cell_type": "code",
   "execution_count": 43,
   "id": "6a85ad60-4771-465e-8de6-1701b3a3c5e2",
   "metadata": {},
   "outputs": [],
   "source": [
    "test = sg.get_die_genes(kind='tes', obs_col='condition',\n",
    "                        obs_conditions=['WT', '5xFAD'], p=0.05, dpi=10)"
   ]
  },
  {
   "cell_type": "code",
   "execution_count": 44,
   "id": "7b059331-b4a3-470d-a614-eb6daf951e98",
   "metadata": {},
   "outputs": [
    {
     "data": {
      "text/html": [
       "<div>\n",
       "<style scoped>\n",
       "    .dataframe tbody tr th:only-of-type {\n",
       "        vertical-align: middle;\n",
       "    }\n",
       "\n",
       "    .dataframe tbody tr th {\n",
       "        vertical-align: top;\n",
       "    }\n",
       "\n",
       "    .dataframe thead th {\n",
       "        text-align: right;\n",
       "    }\n",
       "</style>\n",
       "<table border=\"1\" class=\"dataframe\">\n",
       "  <thead>\n",
       "    <tr style=\"text-align: right;\">\n",
       "      <th></th>\n",
       "      <th>gid</th>\n",
       "      <th>p_val</th>\n",
       "      <th>dpi</th>\n",
       "      <th>pos_iso_1</th>\n",
       "      <th>pos_iso_2</th>\n",
       "      <th>pos_iso_1_dpi</th>\n",
       "      <th>pos_iso_2_dpi</th>\n",
       "      <th>neg_iso_1</th>\n",
       "      <th>neg_iso_2</th>\n",
       "      <th>neg_iso_1_dpi</th>\n",
       "      <th>neg_iso_2_dpi</th>\n",
       "      <th>adj_p_val</th>\n",
       "      <th>gname</th>\n",
       "    </tr>\n",
       "  </thead>\n",
       "  <tbody>\n",
       "    <tr>\n",
       "      <th>3493</th>\n",
       "      <td>ENSMUSG00000027201.16</td>\n",
       "      <td>8.334408e-112</td>\n",
       "      <td>64.827586</td>\n",
       "      <td>ENSMUSG00000027201.16_2</td>\n",
       "      <td>NaN</td>\n",
       "      <td>64.827586</td>\n",
       "      <td>NaN</td>\n",
       "      <td>ENSMUSG00000027201.16_3</td>\n",
       "      <td>ENSMUSG00000027201.16_5</td>\n",
       "      <td>-34.942529</td>\n",
       "      <td>-29.885057</td>\n",
       "      <td>7.294122e-109</td>\n",
       "      <td>Myef2</td>\n",
       "    </tr>\n",
       "  </tbody>\n",
       "</table>\n",
       "</div>"
      ],
      "text/plain": [
       "                        gid          p_val        dpi  \\\n",
       "3493  ENSMUSG00000027201.16  8.334408e-112  64.827586   \n",
       "\n",
       "                    pos_iso_1 pos_iso_2  pos_iso_1_dpi  pos_iso_2_dpi  \\\n",
       "3493  ENSMUSG00000027201.16_2       NaN      64.827586            NaN   \n",
       "\n",
       "                    neg_iso_1                neg_iso_2  neg_iso_1_dpi  \\\n",
       "3493  ENSMUSG00000027201.16_3  ENSMUSG00000027201.16_5     -34.942529   \n",
       "\n",
       "      neg_iso_2_dpi      adj_p_val  gname  \n",
       "3493     -29.885057  7.294122e-109  Myef2  "
      ]
     },
     "execution_count": 44,
     "metadata": {},
     "output_type": "execute_result"
    }
   ],
   "source": [
    "test.loc[test.gname=='Myef2']"
   ]
  },
  {
   "cell_type": "code",
   "execution_count": 42,
   "id": "d0d74da0-08b1-4479-bd34-c3cdb48f884e",
   "metadata": {},
   "outputs": [
    {
     "name": "stdout",
     "output_type": "stream",
     "text": [
      "\n",
      "Plotting transcripts for ENSMUSG00000027201.16\n",
      "Saving transcript path graph for ENCODEMT000844081 as figures/Myef2_browser_ENCODEMT000844081_path.png\n",
      "Saving transcript path graph for ENCODEMT000844073 as figures/Myef2_browser_ENCODEMT000844073_path.png\n",
      "Saving transcript path graph for ENCODEMT000844071 as figures/Myef2_browser_ENCODEMT000844071_path.png\n",
      "Saving transcript path graph for ENCODEMT000844093 as figures/Myef2_browser_ENCODEMT000844093_path.png\n",
      "Saving transcript path graph for ENCODEMT000844137 as figures/Myef2_browser_ENCODEMT000844137_path.png\n",
      "Saving transcript path graph for ENCODEMT000844183 as figures/Myef2_browser_ENCODEMT000844183_path.png\n",
      "Generating report for ENSMUSG00000027201.16\n"
     ]
    }
   ],
   "source": [
    "sg.gen_report('Myef2', \n",
    "              'figures/Myef2', \n",
    "              metadata_cols=['condition'],\n",
    "              novelty=True, \n",
    "              cmap='magma', \n",
    "              layer='pi',\n",
    "              groupby='condition',\n",
    "              browser=True,\n",
    "              display_numbers=True,\n",
    "              transcript_col='tname')"
   ]
  },
  {
   "cell_type": "markdown",
   "id": "c2dc5e81-33cc-4ff3-b3ce-77f0f4fd280c",
   "metadata": {},
   "source": [
    "## Use Scanpy plotting functions to demonstrate plotting capabilities"
   ]
  },
  {
   "cell_type": "code",
   "execution_count": 3,
   "id": "6bc2b4af-a53b-445e-95f2-542d6393212d",
   "metadata": {},
   "outputs": [
    {
     "name": "stderr",
     "output_type": "stream",
     "text": [
      "/Users/fairliereese/miniconda3/envs/swan/lib/python3.8/site-packages/scanpy/preprocessing/_simple.py:249: ImplicitModificationWarning: Trying to modify attribute `.var` of view, initializing view as actual.\n",
      "  adata.var['n_counts'] = number\n"
     ]
    },
    {
     "data": {
      "image/png": "[encoded data removed]",
      "text/plain": [
       "<Figure size 400x400 with 3 Axes>"
      ]
     },
     "metadata": {},
     "output_type": "display_data"
    }
   ],
   "source": [
    "tss = sg.tss_adata.var.loc[sg.tss_adata.var.gname == 'Lsp1'].index.tolist()\n",
    "lsp1_adata = sg.tss_adata[:, tss]\n",
    "sc.pp.filter_genes(lsp1_adata, min_counts=1, inplace=True)\n",
    "lsp1_tss_name = lsp1_adata.var.tss_name.tolist()\n",
    "sc.pl.matrixplot(sg.tss_adata, gene_symbols='tss_name', var_names=lsp1_tss_name, groupby='condition', swap_axes=True, figsize=(4,4))"
   ]
  },
  {
   "cell_type": "code",
   "execution_count": 5,
   "id": "80efee42-404e-47a9-8538-7311cac8ddb8",
   "metadata": {},
   "outputs": [
    {
     "name": "stderr",
     "output_type": "stream",
     "text": [
      "/Users/fairliereese/miniconda3/envs/swan/lib/python3.8/site-packages/scanpy/preprocessing/_simple.py:249: ImplicitModificationWarning: Trying to modify attribute `.var` of view, initializing view as actual.\n",
      "  adata.var['n_counts'] = number\n"
     ]
    },
    {
     "data": {
      "image/png": "[encoded data removed]",
      "text/plain": [
       "<Figure size 400x400 with 3 Axes>"
      ]
     },
     "metadata": {},
     "output_type": "display_data"
    }
   ],
   "source": [
    "myef2_tes = sg.tes_adata.var.loc[sg.tes_adata.var.gname == 'Myef2'].index.tolist()\n",
    "myef2_adata = sg.tes_adata[:, myef2_tes]\n",
    "sc.pp.filter_genes(myef2_adata, min_counts=1, inplace=True)\n",
    "myef2_tes_name = myef2_adata.var.tes_name.tolist()\n",
    "\n",
    "sc.pl.matrixplot(sg.tes_adata, gene_symbols='tes_name', var_names=myef2_tes_name, groupby='condition', swap_axes=True, figsize=(4,4))\n"
   ]
  },
  {
   "cell_type": "code",
   "execution_count": null,
   "id": "79599c05-3a87-44f1-96bb-ab7a13d6dab5",
   "metadata": {},
   "outputs": [],
   "source": []
  }
 ],
 "metadata": {
  "kernelspec": {
   "display_name": "Python 3 (ipykernel)",
   "language": "python",
   "name": "python3"
  },
  "language_info": {
   "codemirror_mode": {
    "name": "ipython",
    "version": 3
   },
   "file_extension": ".py",
   "mimetype": "text/x-python",
   "name": "python",
   "nbconvert_exporter": "python",
   "pygments_lexer": "ipython3",
   "version": "3.8.0"
  }
 },
 "nbformat": 4,
 "nbformat_minor": 5
}
