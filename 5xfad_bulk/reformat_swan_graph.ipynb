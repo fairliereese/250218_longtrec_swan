{
 "cells": [
  {
   "cell_type": "code",
   "execution_count": 20,
   "id": "da763a3e-9710-42c5-a38c-7b05db0fa96b",
   "metadata": {},
   "outputs": [],
   "source": [
    "import swan_vis as swan \n",
    "import scanpy as sc\n",
    "import pandas as pd\n",
    "import anndata\n",
    "from scipy import sparse\n",
    "import matplotlib.pyplot as plt\n",
    "import numpy as np\n",
    "import seaborn as sns"
   ]
  },
  {
   "cell_type": "code",
   "execution_count": 40,
   "id": "32ed1c64-75fc-4160-a4be-99c5ea05d3de",
   "metadata": {},
   "outputs": [
    {
     "name": "stdout",
     "output_type": "stream",
     "text": [
      "Read in graph from ../data/5xfad_swan2.0.p\n"
     ]
    }
   ],
   "source": [
    "# sg = swan.read('../data/5xfad_swan2.0.p')\n"
   ]
  },
  {
   "cell_type": "code",
   "execution_count": 44,
   "id": "9375d9c2-30b7-4e1d-8f19-a29efe2e28aa",
   "metadata": {},
   "outputs": [],
   "source": [
    "# sg.adata.color_dict"
   ]
  },
  {
   "cell_type": "code",
   "execution_count": null,
   "id": "0918d486-68a1-4416-865a-700f685a277e",
   "metadata": {},
   "outputs": [],
   "source": []
  },
  {
   "cell_type": "code",
   "execution_count": 32,
   "id": "35d3142b-e7d3-44e0-acb2-5d6873d9715a",
   "metadata": {},
   "outputs": [],
   "source": [
    "# sg = swan.read('../data/5xfad_old.p')\n",
    "# sg.gene_adata = anndata.AnnData()\n",
    "# sg.ic_adata = anndata.AnnData()"
   ]
  },
  {
   "cell_type": "code",
   "execution_count": 24,
   "id": "10a27d75-da2b-4655-a0b9-52ae1e1f2bb1",
   "metadata": {},
   "outputs": [],
   "source": [
    "# sg.t_df.loc[sg.t_df.gname=='Myef2']"
   ]
  },
  {
   "cell_type": "code",
   "execution_count": 31,
   "id": "9e41a86b-16c3-4450-a41a-2c6ad3ea1ed0",
   "metadata": {},
   "outputs": [],
   "source": [
    "# # make all layers for each adata a sparse thing\n",
    "# for adata in sg.get_adatas():\n",
    "#     for layer in adata.layers:\n",
    "#         adata.layers[layer] = sparse.csr_matrix(adata.layers[layer])\n",
    "#     adata.X = sparse.csr_matrix(adata.X)"
   ]
  },
  {
   "cell_type": "code",
   "execution_count": 47,
   "id": "7d1d1a5b-5d1b-45bc-9b38-f0faacccdb73",
   "metadata": {},
   "outputs": [],
   "source": [
    "# import matplotlib as mpl\n",
    "# print(mpl.colors.cnames['deeppink'])\n",
    "# print(mpl.colors.cnames['darkviolet'])\n",
    "# region_cmap = {'hippocampus': 'deeppink',\n",
    "#                'cortex': 'darkviolet'}\n",
    "# sg.set_metadata_colors('brain_region', region_cmap)\n",
    "\n",
    "\n",
    "# print(mpl.colors.cnames['green'])\n",
    "# print(mpl.colors.cnames['yellow'])\n",
    "# sex_cmap = {'F': 'green', 'M': 'yellow'}\n",
    "# sg.set_metadata_colors('sex', sex_cmap)\n",
    "\n",
    "# print(mpl.colors.cnames['purple'])\n",
    "# print(mpl.colors.cnames['lightpink'])\n",
    "# cond_cmap = {'5xFAD': 'purple', \n",
    "#                   'WT': 'lightpink'}\n",
    "# sg.set_metadata_colors('condition', cond_cmap)"
   ]
  },
  {
   "cell_type": "code",
   "execution_count": 46,
   "id": "babcf8d7-d8bb-4170-bfaa-a65250defa89",
   "metadata": {},
   "outputs": [
    {
     "name": "stdout",
     "output_type": "stream",
     "text": [
      "Saving graph as ../data/5xfad.p\n"
     ]
    }
   ],
   "source": [
    "# sg.save_graph('../data/5xfad')"
   ]
  },
  {
   "cell_type": "code",
   "execution_count": 45,
   "id": "5dadc470-19b5-462a-a10a-c46eb8e85c13",
   "metadata": {},
   "outputs": [
    {
     "name": "stdout",
     "output_type": "stream",
     "text": [
      "Read in graph from ../data/5xfad.p\n"
     ]
    }
   ],
   "source": [
    "sg = swan.read('../data/5xfad.p')\n",
    "sg.set_plotting_colors(default=True)"
   ]
  },
  {
   "cell_type": "code",
   "execution_count": 35,
   "id": "04211921-2649-4b5a-8582-a124a7a03825",
   "metadata": {},
   "outputs": [],
   "source": [
    "for feat in ['tss', 'iso', 'tes']:\n",
    "    tbl, res = sg.die_gene_test(kind=feat, obs_col='condition', obs_conditions=['WT', '5xFAD'])"
   ]
  },
  {
   "cell_type": "code",
   "execution_count": 36,
   "id": "637cce6f-de3d-4c0c-89c6-6ea2dc955000",
   "metadata": {},
   "outputs": [
    {
     "name": "stdout",
     "output_type": "stream",
     "text": [
      "Saving graph as ../data/5xfad.p\n"
     ]
    }
   ],
   "source": [
    "sg.save_graph('../data/5xfad')\n"
   ]
  },
  {
   "cell_type": "code",
   "execution_count": 16,
   "id": "a4cfabae-afae-470c-8be9-e04769ed35d0",
   "metadata": {},
   "outputs": [
    {
     "data": {
      "text/html": [
       "<div>\n",
       "<style scoped>\n",
       "    .dataframe tbody tr th:only-of-type {\n",
       "        vertical-align: middle;\n",
       "    }\n",
       "\n",
       "    .dataframe tbody tr th {\n",
       "        vertical-align: top;\n",
       "    }\n",
       "\n",
       "    .dataframe thead th {\n",
       "        text-align: right;\n",
       "    }\n",
       "</style>\n",
       "<table border=\"1\" class=\"dataframe\">\n",
       "  <thead>\n",
       "    <tr style=\"text-align: right;\">\n",
       "      <th></th>\n",
       "      <th>gid</th>\n",
       "      <th>p_val</th>\n",
       "      <th>dpi</th>\n",
       "      <th>pos_iso_1</th>\n",
       "      <th>pos_iso_2</th>\n",
       "      <th>pos_iso_1_dpi</th>\n",
       "      <th>pos_iso_2_dpi</th>\n",
       "      <th>neg_iso_1</th>\n",
       "      <th>neg_iso_2</th>\n",
       "      <th>neg_iso_1_dpi</th>\n",
       "      <th>neg_iso_2_dpi</th>\n",
       "      <th>adj_p_val</th>\n",
       "      <th>gname</th>\n",
       "    </tr>\n",
       "  </thead>\n",
       "  <tbody>\n",
       "    <tr>\n",
       "      <th>0</th>\n",
       "      <td>SIRV7.1</td>\n",
       "      <td>8.463643e-94</td>\n",
       "      <td>19.269167</td>\n",
       "      <td>SIRV7.1-SIRV703</td>\n",
       "      <td>SIRV7.1-SIRV701</td>\n",
       "      <td>10.801022</td>\n",
       "      <td>6.865050</td>\n",
       "      <td>SIRV7.1-SIRV706</td>\n",
       "      <td>SIRV7.1-SIRV708</td>\n",
       "      <td>-10.398659</td>\n",
       "      <td>-8.870507</td>\n",
       "      <td>4.644659e-91</td>\n",
       "      <td>SIRV7.1</td>\n",
       "    </tr>\n",
       "    <tr>\n",
       "      <th>14</th>\n",
       "      <td>SIRV4.2</td>\n",
       "      <td>9.132952e-50</td>\n",
       "      <td>27.535538</td>\n",
       "      <td>SIRV4.2-SIRV409</td>\n",
       "      <td>ENCODEMT000144679</td>\n",
       "      <td>25.918707</td>\n",
       "      <td>1.616830</td>\n",
       "      <td>SIRV4.2-SIRV410</td>\n",
       "      <td>NaN</td>\n",
       "      <td>-27.535538</td>\n",
       "      <td>NaN</td>\n",
       "      <td>3.110872e-47</td>\n",
       "      <td>SIRV4.2</td>\n",
       "    </tr>\n",
       "    <tr>\n",
       "      <th>29</th>\n",
       "      <td>ENCODEMG000056412</td>\n",
       "      <td>3.340615e-04</td>\n",
       "      <td>20.017241</td>\n",
       "      <td>ENCODEMT000151009</td>\n",
       "      <td>NaN</td>\n",
       "      <td>20.017241</td>\n",
       "      <td>NaN</td>\n",
       "      <td>ENCODEMT000150966</td>\n",
       "      <td>ENCODEMT000150978</td>\n",
       "      <td>-14.344828</td>\n",
       "      <td>-5.672414</td>\n",
       "      <td>6.021642e-03</td>\n",
       "      <td>ENCODEMG000056412</td>\n",
       "    </tr>\n",
       "    <tr>\n",
       "      <th>44</th>\n",
       "      <td>ENSMUSG00000027506.15</td>\n",
       "      <td>3.972245e-32</td>\n",
       "      <td>13.652977</td>\n",
       "      <td>ENCODEMT000155843</td>\n",
       "      <td>ENCODEMT000155871</td>\n",
       "      <td>12.152478</td>\n",
       "      <td>0.896448</td>\n",
       "      <td>ENSMUST00000120143.7</td>\n",
       "      <td>ENSMUST00000063496.13</td>\n",
       "      <td>-13.503475</td>\n",
       "      <td>-0.149502</td>\n",
       "      <td>8.529964e-30</td>\n",
       "      <td>Tpd52</td>\n",
       "    </tr>\n",
       "    <tr>\n",
       "      <th>55</th>\n",
       "      <td>ENSMUSG00000025817.12</td>\n",
       "      <td>1.261212e-12</td>\n",
       "      <td>23.748697</td>\n",
       "      <td>ENCODEMT000159336</td>\n",
       "      <td>NaN</td>\n",
       "      <td>23.748697</td>\n",
       "      <td>NaN</td>\n",
       "      <td>ENCODEMT000159350</td>\n",
       "      <td>ENSMUST00000138549.7</td>\n",
       "      <td>-23.216893</td>\n",
       "      <td>-0.531804</td>\n",
       "      <td>9.510115e-11</td>\n",
       "      <td>Nudt5</td>\n",
       "    </tr>\n",
       "  </tbody>\n",
       "</table>\n",
       "</div>"
      ],
      "text/plain": [
       "                      gid         p_val        dpi          pos_iso_1  \\\n",
       "0                 SIRV7.1  8.463643e-94  19.269167    SIRV7.1-SIRV703   \n",
       "14                SIRV4.2  9.132952e-50  27.535538    SIRV4.2-SIRV409   \n",
       "29      ENCODEMG000056412  3.340615e-04  20.017241  ENCODEMT000151009   \n",
       "44  ENSMUSG00000027506.15  3.972245e-32  13.652977  ENCODEMT000155843   \n",
       "55  ENSMUSG00000025817.12  1.261212e-12  23.748697  ENCODEMT000159336   \n",
       "\n",
       "            pos_iso_2  pos_iso_1_dpi  pos_iso_2_dpi             neg_iso_1  \\\n",
       "0     SIRV7.1-SIRV701      10.801022       6.865050       SIRV7.1-SIRV706   \n",
       "14  ENCODEMT000144679      25.918707       1.616830       SIRV4.2-SIRV410   \n",
       "29                NaN      20.017241            NaN     ENCODEMT000150966   \n",
       "44  ENCODEMT000155871      12.152478       0.896448  ENSMUST00000120143.7   \n",
       "55                NaN      23.748697            NaN     ENCODEMT000159350   \n",
       "\n",
       "                neg_iso_2  neg_iso_1_dpi  neg_iso_2_dpi     adj_p_val  \\\n",
       "0         SIRV7.1-SIRV708     -10.398659      -8.870507  4.644659e-91   \n",
       "14                    NaN     -27.535538            NaN  3.110872e-47   \n",
       "29      ENCODEMT000150978     -14.344828      -5.672414  6.021642e-03   \n",
       "44  ENSMUST00000063496.13     -13.503475      -0.149502  8.529964e-30   \n",
       "55   ENSMUST00000138549.7     -23.216893      -0.531804  9.510115e-11   \n",
       "\n",
       "                gname  \n",
       "0             SIRV7.1  \n",
       "14            SIRV4.2  \n",
       "29  ENCODEMG000056412  \n",
       "44              Tpd52  \n",
       "55              Nudt5  "
      ]
     },
     "execution_count": 16,
     "metadata": {},
     "output_type": "execute_result"
    }
   ],
   "source": [
    "test = sg.get_die_genes(kind='tes', obs_col='condition',\n",
    "                        obs_conditions=['WT', '5xFAD'])\n",
    "test.head()"
   ]
  },
  {
   "cell_type": "code",
   "execution_count": 17,
   "id": "56e26fe9-b82a-4039-b9a8-fb2390d05cc0",
   "metadata": {},
   "outputs": [
    {
     "data": {
      "text/html": [
       "<div>\n",
       "<style scoped>\n",
       "    .dataframe tbody tr th:only-of-type {\n",
       "        vertical-align: middle;\n",
       "    }\n",
       "\n",
       "    .dataframe tbody tr th {\n",
       "        vertical-align: top;\n",
       "    }\n",
       "\n",
       "    .dataframe thead th {\n",
       "        text-align: right;\n",
       "    }\n",
       "</style>\n",
       "<table border=\"1\" class=\"dataframe\">\n",
       "  <thead>\n",
       "    <tr style=\"text-align: right;\">\n",
       "      <th></th>\n",
       "      <th>gid</th>\n",
       "      <th>p_val</th>\n",
       "      <th>dpi</th>\n",
       "      <th>pos_iso_1</th>\n",
       "      <th>pos_iso_2</th>\n",
       "      <th>pos_iso_1_dpi</th>\n",
       "      <th>pos_iso_2_dpi</th>\n",
       "      <th>neg_iso_1</th>\n",
       "      <th>neg_iso_2</th>\n",
       "      <th>neg_iso_1_dpi</th>\n",
       "      <th>neg_iso_2_dpi</th>\n",
       "      <th>adj_p_val</th>\n",
       "      <th>gname</th>\n",
       "    </tr>\n",
       "  </thead>\n",
       "  <tbody>\n",
       "    <tr>\n",
       "      <th>2180</th>\n",
       "      <td>ENSMUSG00000059326.7</td>\n",
       "      <td>1.207201e-24</td>\n",
       "      <td>58.830444</td>\n",
       "      <td>ENCODEMT000852457</td>\n",
       "      <td>ENSMUST00000235172.1</td>\n",
       "      <td>48.060535</td>\n",
       "      <td>7.489715</td>\n",
       "      <td>ENSMUST00000076046.6</td>\n",
       "      <td>NaN</td>\n",
       "      <td>-58.830444</td>\n",
       "      <td>NaN</td>\n",
       "      <td>2.021141e-22</td>\n",
       "      <td>Csf2ra</td>\n",
       "    </tr>\n",
       "  </tbody>\n",
       "</table>\n",
       "</div>"
      ],
      "text/plain": [
       "                       gid         p_val        dpi          pos_iso_1  \\\n",
       "2180  ENSMUSG00000059326.7  1.207201e-24  58.830444  ENCODEMT000852457   \n",
       "\n",
       "                 pos_iso_2  pos_iso_1_dpi  pos_iso_2_dpi  \\\n",
       "2180  ENSMUST00000235172.1      48.060535       7.489715   \n",
       "\n",
       "                 neg_iso_1 neg_iso_2  neg_iso_1_dpi  neg_iso_2_dpi  \\\n",
       "2180  ENSMUST00000076046.6       NaN     -58.830444            NaN   \n",
       "\n",
       "         adj_p_val   gname  \n",
       "2180  2.021141e-22  Csf2ra  "
      ]
     },
     "execution_count": 17,
     "metadata": {},
     "output_type": "execute_result"
    }
   ],
   "source": [
    "test.loc[test.gname=='Csf2ra']"
   ]
  },
  {
   "cell_type": "code",
   "execution_count": null,
   "id": "766164e2-6623-4961-9558-95da4e2ae29c",
   "metadata": {},
   "outputs": [],
   "source": []
  },
  {
   "cell_type": "code",
   "execution_count": null,
   "id": "ca43617b-bf03-4aca-8d42-9aa79ce3dcbd",
   "metadata": {},
   "outputs": [],
   "source": []
  }
 ],
 "metadata": {
  "kernelspec": {
   "display_name": "Python 3 (ipykernel)",
   "language": "python",
   "name": "python3"
  },
  "language_info": {
   "codemirror_mode": {
    "name": "ipython",
    "version": 3
   },
   "file_extension": ".py",
   "mimetype": "text/x-python",
   "name": "python",
   "nbconvert_exporter": "python",
   "pygments_lexer": "ipython3",
   "version": "3.8.0"
  }
 },
 "nbformat": 4,
 "nbformat_minor": 5
}
