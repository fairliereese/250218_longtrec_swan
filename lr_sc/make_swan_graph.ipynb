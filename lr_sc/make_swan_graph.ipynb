{
 "cells": [
  {
   "cell_type": "code",
   "execution_count": 1,
   "id": "523f1755-dccd-4e98-b66c-a399a2aeeb05",
   "metadata": {},
   "outputs": [],
   "source": [
    "import swan_vis as swan\n",
    "import pandas as pd\n",
    "import numpy as np\n",
    "import pandas as pd\n",
    "import seaborn as sns\n",
    "import matplotlib.pyplot as plt\n",
    "import scipy.stats as st\n",
    "import statistics"
   ]
  },
  {
   "cell_type": "code",
   "execution_count": 2,
   "id": "6f7d589e-707f-4b18-8b73-0724fd539fa8",
   "metadata": {},
   "outputs": [
    {
     "name": "stdout",
     "output_type": "stream",
     "text": [
      "\n",
      "Adding annotation to the SwanGraph\n"
     ]
    },
    {
     "name": "stderr",
     "output_type": "stream",
     "text": [
      "Processing transcripts: 100%|█████████████████████████████████████████████████████████▉| 141700/141767 [00:37<00:00, 3828.36it/s]\n"
     ]
    },
    {
     "name": "stdout",
     "output_type": "stream",
     "text": [
      "Reindexing and sorting entries on genomic location...\n"
     ]
    },
    {
     "name": "stderr",
     "output_type": "stream",
     "text": [
      "Reindexing vertices: 100%|██████████████████████████████████████████████████████████▉| 753000/753965 [00:01<00:00, 660964.18it/s]\n",
      "Reindexing edges:  97%|████████████████████████████████████████████████████████████  | 730000/753965 [00:01<00:00, 457644.74it/s]\n"
     ]
    },
    {
     "name": "stdout",
     "output_type": "stream",
     "text": [
      "\n",
      "Annotation added to the SwanGraph\n",
      "\n",
      "Adding transcriptome to the SwanGraph\n"
     ]
    },
    {
     "name": "stderr",
     "output_type": "stream",
     "text": [
      "Processing transcripts: 100%|█████████████████████████████████████████████████████████▉| 585500/585566 [01:32<00:00, 6347.57it/s]\n"
     ]
    },
    {
     "name": "stdout",
     "output_type": "stream",
     "text": [
      "Reindexing and sorting entries on genomic location...\n"
     ]
    },
    {
     "name": "stderr",
     "output_type": "stream",
     "text": [
      "Reindexing vertices: 100%|████████████████████████████████████████████████████████▉| 1129000/1129257 [00:01<00:00, 574049.62it/s]\n",
      "Reindexing edges:  95%|█████████████████████████████████████████████████████████   | 1073000/1129257 [00:02<00:00, 464793.70it/s]\n"
     ]
    },
    {
     "name": "stdout",
     "output_type": "stream",
     "text": [
      "\n",
      "Transcriptome added to the SwanGraph\n",
      "\n",
      "Adding abundance for datasets TGGAACAAGTGTTCTACGTTCGAG, GTACGCAATCCGTCTAACGCCGGC, AAGAGATCCCGTGAGAACGCCGGC, ACTATGCAACACGACCGTGCTAGC, CAATGGAACTAAGGTCGTTCAACA... (and 459 more) to SwanGraph\n",
      "Calculating TPM...\n",
      "Calculating edge usage...\n"
     ]
    },
    {
     "name": "stderr",
     "output_type": "stream",
     "text": [
      "/Users/fairliereese/miniconda3/envs/swan/lib/python3.8/site-packages/anndata/_core/anndata.py:121: ImplicitModificationWarning: Transforming to str index.\n",
      "  warnings.warn(\"Transforming to str index.\", ImplicitModificationWarning)\n"
     ]
    },
    {
     "name": "stdout",
     "output_type": "stream",
     "text": [
      "Calculating TSS usage...\n",
      "Calculating TES usage...\n"
     ]
    }
   ],
   "source": [
    "annot = '../data/gencode.vM21.annotation.gtf'\n",
    "transcriptome = '../data/c2c12_talon.gtf'\n",
    "abundance = '../data/c2c12_swan_abundance_filtered.tsv'\n",
    "\n",
    "sg = swan.SwanGraph(sc=True)\n",
    "sg.add_annotation(annot, verbose=True)\n",
    "sg.add_transcriptome(transcriptome, verbose=True)\n",
    "sg.add_abundance(abundance)"
   ]
  },
  {
   "cell_type": "code",
   "execution_count": 4,
   "id": "86d90c63-37e8-4a29-a6fb-1e7e5a92521f",
   "metadata": {},
   "outputs": [],
   "source": [
    "# add metadata and colors for plotting\n",
    "metadata = '../data/c2c12_metadata.tsv'\n",
    "sg.add_metadata(metadata)\n",
    "\n",
    "\n",
    "sg.add_metadata('../data/gene_clusters_celltypes.tsv')\n",
    "\n",
    "sample_green = '#019f73'\n",
    "sample_blue = '#57b4e9'\n",
    "sample_pink = '#cb79a7'\n",
    "c_dict = {'MB_cells': sample_pink, 'MB_nuclei': sample_blue, 'MT_nuclei': sample_green}\n",
    "sg.set_metadata_colors('sample', c_dict)\n",
    "\n",
    "sample_pink = '#cb79a7'\n",
    "sample_green = '#019f73'\n",
    "sample_dark_green = '#066b4b'\n",
    "c_dict = {'MB': sample_pink, 'MNC': sample_green, 'MT': sample_dark_green}\n",
    "sg.set_metadata_colors('celltype', c_dict)\n",
    "\n",
    "purple = '#8DA0CB'\n",
    "yellow = '#FFD92F'\n",
    "green = '#A6D854'\n",
    "pink = '#E78AC3'\n",
    "beige = '#E5C494'\n",
    "salmon = '#FC8D62'\n",
    "teal = '#66C2A5'\n",
    "\n",
    "c_dict = {'1': yellow, '2': beige, '3': teal,\n",
    "          '4': salmon, '5': purple, '6': pink, '7': green}\n",
    "sg.set_metadata_colors('leiden', c_dict)"
   ]
  },
  {
   "cell_type": "code",
   "execution_count": 14,
   "id": "07bd3b94-9c19-46e9-99df-c2db84ecad24",
   "metadata": {},
   "outputs": [
    {
     "name": "stdout",
     "output_type": "stream",
     "text": [
      "Read in graph from ../data/c2c12.p\n"
     ]
    }
   ],
   "source": [
    "sg = swan.read('../data/c2c12.p')"
   ]
  },
  {
   "cell_type": "code",
   "execution_count": 15,
   "id": "6fa8c6f8-1f7e-4896-8939-35b7a86630fc",
   "metadata": {},
   "outputs": [],
   "source": [
    "coords = pd.read_csv('../data/umap_coords.tsv', sep='\\t')\n",
    "sg.adata.obsm['X_umap'] = coords.values\n",
    "sg.tss_adata.obsm['X_umap'] = coords.values\n",
    "sg.tes_adata.obsm['X_umap'] = coords.values\n"
   ]
  },
  {
   "cell_type": "code",
   "execution_count": 16,
   "id": "55496f4c-be66-4c12-b277-7b86a96d9c62",
   "metadata": {},
   "outputs": [
    {
     "name": "stdout",
     "output_type": "stream",
     "text": [
      "Saving graph as ../data/c2c12.p\n"
     ]
    }
   ],
   "source": [
    "sg.save_graph('../data/c2c12')"
   ]
  },
  {
   "cell_type": "code",
   "execution_count": 7,
   "id": "2330dfc5-4a57-4cc1-a62c-4c8c7894d912",
   "metadata": {},
   "outputs": [],
   "source": [
    "tbl, res = sg.die_gene_test(kind='tss', obs_col='celltype', obs_conditions=['MB', 'MT'])"
   ]
  },
  {
   "cell_type": "code",
   "execution_count": 9,
   "id": "c5a12297-5775-4fa3-a57e-8672bfe5b944",
   "metadata": {},
   "outputs": [],
   "source": [
    "tbl, res = sg.die_gene_test(kind='iso', obs_col='celltype', obs_conditions=['MB', 'MT'])"
   ]
  },
  {
   "cell_type": "code",
   "execution_count": 10,
   "id": "13347aa4-c435-49a3-b11d-6017cd3cd4ef",
   "metadata": {},
   "outputs": [
    {
     "name": "stdout",
     "output_type": "stream",
     "text": [
      "Saving graph as ../data/c2c12.p\n"
     ]
    }
   ],
   "source": [
    "sg.save_graph('../data/c2c12')"
   ]
  },
  {
   "cell_type": "code",
   "execution_count": null,
   "id": "8322ffd3-5496-4078-aaf4-bdad5dc7d68a",
   "metadata": {},
   "outputs": [],
   "source": []
  }
 ],
 "metadata": {
  "kernelspec": {
   "display_name": "Python 3 (ipykernel)",
   "language": "python",
   "name": "python3"
  },
  "language_info": {
   "codemirror_mode": {
    "name": "ipython",
    "version": 3
   },
   "file_extension": ".py",
   "mimetype": "text/x-python",
   "name": "python",
   "nbconvert_exporter": "python",
   "pygments_lexer": "ipython3",
   "version": "3.8.0"
  }
 },
 "nbformat": 4,
 "nbformat_minor": 5
}
